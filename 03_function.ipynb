{
  "cells": [
    {
      "cell_type": "markdown",
      "metadata": {
        "id": "view-in-github",
        "colab_type": "text"
      },
      "source": [
        "<a href=\"https://colab.research.google.com/github/Efrizal-m/mastering_AI_bootcamp/blob/main/03_function.ipynb\" target=\"_parent\"><img src=\"https://colab.research.google.com/assets/colab-badge.svg\" alt=\"Open In Colab\"/></a>"
      ]
    },
    {
      "cell_type": "markdown",
      "metadata": {
        "id": "-yzz-pFcpMpM"
      },
      "source": [
        "# Function"
      ]
    },
    {
      "cell_type": "code",
      "source": [
        "x = -10\n",
        "abs(x)"
      ],
      "metadata": {
        "colab": {
          "base_uri": "https://localhost:8080/"
        },
        "id": "oxae448TQohH",
        "outputId": "597707ff-d4ce-4f50-bfa8-8da54313b379"
      },
      "execution_count": null,
      "outputs": [
        {
          "output_type": "execute_result",
          "data": {
            "text/plain": [
              "10"
            ]
          },
          "metadata": {},
          "execution_count": 1
        }
      ]
    },
    {
      "cell_type": "code",
      "source": [
        "[x**2 for x in range(1,11) if x==2]"
      ],
      "metadata": {
        "colab": {
          "base_uri": "https://localhost:8080/"
        },
        "id": "woho_JBJQxNy",
        "outputId": "f55cac0a-d743-4345-f666-fd85cb503f7c"
      },
      "execution_count": null,
      "outputs": [
        {
          "output_type": "execute_result",
          "data": {
            "text/plain": [
              "[4]"
            ]
          },
          "metadata": {},
          "execution_count": 5
        }
      ]
    },
    {
      "cell_type": "markdown",
      "metadata": {
        "id": "IUPWtP4dpMpP"
      },
      "source": [
        "## Defining and calling functions\n",
        "\n",
        "To define a function in Python, use the `def` statement, followed by a function name, parentheses `()`, and a colon `:`. The function body is indented, usually by 4 spaces. Functions can return values using the `return` statement. And to call a function, simply use the function's name followed by parentheses `()`."
      ]
    },
    {
      "cell_type": "markdown",
      "source": [
        "UDF --> user defined functions"
      ],
      "metadata": {
        "id": "VZm3XLPhREf1"
      }
    },
    {
      "cell_type": "code",
      "source": [
        "def absolute(value):\n",
        "  return value * -1"
      ],
      "metadata": {
        "id": "XFaBYfNlRIlX"
      },
      "execution_count": null,
      "outputs": []
    },
    {
      "cell_type": "code",
      "source": [
        "absolute(x)"
      ],
      "metadata": {
        "colab": {
          "base_uri": "https://localhost:8080/"
        },
        "id": "S7Tt9RR_RMgW",
        "outputId": "da2a8a24-ff26-4b44-dab4-411772653291"
      },
      "execution_count": null,
      "outputs": [
        {
          "output_type": "execute_result",
          "data": {
            "text/plain": [
              "10"
            ]
          },
          "metadata": {},
          "execution_count": 9
        }
      ]
    },
    {
      "cell_type": "code",
      "execution_count": null,
      "metadata": {
        "id": "Qq74acKHpMpQ",
        "colab": {
          "base_uri": "https://localhost:8080/"
        },
        "outputId": "d52dc5ef-3c9a-4ca2-cefa-d98f9a0856e8"
      },
      "outputs": [
        {
          "output_type": "stream",
          "name": "stdout",
          "text": [
            "Hello, World!\n"
          ]
        }
      ],
      "source": [
        "def greet():\n",
        "    print(\"Hello, World!\")\n",
        "\n",
        "greet()"
      ]
    },
    {
      "cell_type": "code",
      "source": [
        "for x in range(1, 11, 2):\n",
        "  print(x)"
      ],
      "metadata": {
        "colab": {
          "base_uri": "https://localhost:8080/"
        },
        "id": "HsCeiIcvRgHd",
        "outputId": "1916a62a-2712-4f85-e0a8-9e5e2a5c3201"
      },
      "execution_count": null,
      "outputs": [
        {
          "output_type": "stream",
          "name": "stdout",
          "text": [
            "1\n",
            "3\n",
            "5\n",
            "7\n",
            "9\n"
          ]
        }
      ]
    },
    {
      "cell_type": "markdown",
      "metadata": {
        "id": "ztrIr1mjpMpR"
      },
      "source": [
        "## Arguments and Parameters\n",
        "\n",
        "Functions can have input values, called arguments, which are passed to the function when it is called. Within the function, these input values are known as parameters. Parameters are defined within the parentheses `()` in the function definition, and arguments are passed to the function within the parentheses when calling the function."
      ]
    },
    {
      "cell_type": "code",
      "execution_count": null,
      "metadata": {
        "id": "_7h7M1qNpMpS",
        "colab": {
          "base_uri": "https://localhost:8080/"
        },
        "outputId": "7c016129-f1dc-431d-f277-85df6c1045f5"
      },
      "outputs": [
        {
          "output_type": "stream",
          "name": "stdout",
          "text": [
            "Hello, Alice\n"
          ]
        }
      ],
      "source": [
        "# Defining a function with a parameter 'name'\n",
        "def greet(name):\n",
        "    print(\"Hello,\", name)\n",
        "\n",
        "# Calling the function with an argument 'Alice'\n",
        "greet(\"Alice\")"
      ]
    },
    {
      "cell_type": "code",
      "source": [
        "a = greet(\"Adipta\")"
      ],
      "metadata": {
        "colab": {
          "base_uri": "https://localhost:8080/"
        },
        "id": "YyZg13rSRtOy",
        "outputId": "668d47f0-2dc0-49c8-b77c-65c8e3c15fd6"
      },
      "execution_count": null,
      "outputs": [
        {
          "output_type": "stream",
          "name": "stdout",
          "text": [
            "Hello, Adipta\n"
          ]
        }
      ]
    },
    {
      "cell_type": "code",
      "source": [
        "greet = \"halo\""
      ],
      "metadata": {
        "id": "rxqQSE3SSEwd"
      },
      "execution_count": null,
      "outputs": []
    },
    {
      "cell_type": "code",
      "source": [
        "greet"
      ],
      "metadata": {
        "colab": {
          "base_uri": "https://localhost:8080/",
          "height": 35
        },
        "id": "Si3W03hZSGcj",
        "outputId": "549142da-8d7d-46c9-fac1-b143aba8ca72"
      },
      "execution_count": null,
      "outputs": [
        {
          "output_type": "execute_result",
          "data": {
            "text/plain": [
              "'halo'"
            ],
            "application/vnd.google.colaboratory.intrinsic+json": {
              "type": "string"
            }
          },
          "metadata": {},
          "execution_count": 16
        }
      ]
    },
    {
      "cell_type": "code",
      "source": [
        "greet(\"Adipta\")"
      ],
      "metadata": {
        "colab": {
          "base_uri": "https://localhost:8080/",
          "height": 141
        },
        "id": "EqkpylE7SIiF",
        "outputId": "bbb27d93-fcde-465b-9295-46c3facdacf7"
      },
      "execution_count": null,
      "outputs": [
        {
          "output_type": "error",
          "ename": "TypeError",
          "evalue": "'str' object is not callable",
          "traceback": [
            "\u001b[0;31m---------------------------------------------------------------------------\u001b[0m",
            "\u001b[0;31mTypeError\u001b[0m                                 Traceback (most recent call last)",
            "\u001b[0;32m<ipython-input-17-40288f1e0f38>\u001b[0m in \u001b[0;36m<cell line: 1>\u001b[0;34m()\u001b[0m\n\u001b[0;32m----> 1\u001b[0;31m \u001b[0mgreet\u001b[0m\u001b[0;34m(\u001b[0m\u001b[0;34m\"Adipta\"\u001b[0m\u001b[0;34m)\u001b[0m\u001b[0;34m\u001b[0m\u001b[0;34m\u001b[0m\u001b[0m\n\u001b[0m",
            "\u001b[0;31mTypeError\u001b[0m: 'str' object is not callable"
          ]
        }
      ]
    },
    {
      "cell_type": "code",
      "source": [
        "def addition(x, y):\n",
        "  return x + y\n",
        "\n",
        "def substraction(x, y):\n",
        "  return x - y"
      ],
      "metadata": {
        "id": "SPB8FZk-RxbU"
      },
      "execution_count": null,
      "outputs": []
    },
    {
      "cell_type": "code",
      "source": [
        "if addition:\n",
        "  addition(x, y)\n",
        "else:\n",
        "  substraction(x, y)"
      ],
      "metadata": {
        "id": "JoqRSNm0R6fh"
      },
      "execution_count": null,
      "outputs": []
    },
    {
      "cell_type": "markdown",
      "metadata": {
        "id": "BRjEFTEspMpS"
      },
      "source": [
        "## Lambda functions\n",
        "\n",
        "Lambda functions, also known as anonymous functions, are small, single-expression functions in Python that you can define using the `lambda` keyword. They are useful for short, simple operations and can be defined in one line. Lambda functions are useful when working with functions like `map()`, `filter()` or `sorted()`, where a small function needs to be passed.\n",
        "\n",
        "```py\n",
        "lambda arguments: expression\n",
        "```\n",
        "\n",
        "Remember: Use lambda functions for simple operations, and regular `def` functions for more complex tasks to keep your code readable."
      ]
    },
    {
      "cell_type": "code",
      "execution_count": null,
      "metadata": {
        "id": "vbND0EiapMpS",
        "colab": {
          "base_uri": "https://localhost:8080/"
        },
        "outputId": "e14a47f3-c1fc-4fb3-e2c1-c087d69d2729"
      },
      "outputs": [
        {
          "output_type": "stream",
          "name": "stdout",
          "text": [
            "8\n",
            "16\n",
            "['kiwi', 'apple', 'banana', 'cherry']\n"
          ]
        }
      ],
      "source": [
        "# A lambda function to add two numbers:\n",
        "add = lambda x, y: x + y\n",
        "result1 = add(5, 3)\n",
        "print(result1)\n",
        "\n",
        "# A lambda function to find the square of a number:\n",
        "square = lambda x: x**2\n",
        "result2 = square(4)\n",
        "print(result2)\n",
        "\n",
        "# sorting a list of strings by length:\n",
        "text_list = [\"apple\", \"banana\", \"cherry\", \"kiwi\"]\n",
        "sorted_list = sorted(text_list, key=lambda x: len(x))\n",
        "print(sorted_list)"
      ]
    },
    {
      "cell_type": "code",
      "source": [
        "add = lambda x, y: x + y\n",
        "result1 = add(5, 3)\n",
        "print(result1)"
      ],
      "metadata": {
        "colab": {
          "base_uri": "https://localhost:8080/"
        },
        "id": "-q3K1DO1SToO",
        "outputId": "5a5af9d4-ab48-467b-a245-1368ce98e606"
      },
      "execution_count": null,
      "outputs": [
        {
          "output_type": "stream",
          "name": "stdout",
          "text": [
            "8\n"
          ]
        }
      ]
    },
    {
      "cell_type": "code",
      "source": [
        "def addition(x, y):\n",
        "  return x + y"
      ],
      "metadata": {
        "id": "_U-oBEPdSZ8Q"
      },
      "execution_count": null,
      "outputs": []
    },
    {
      "cell_type": "code",
      "source": [
        "result = addition(5, 3)"
      ],
      "metadata": {
        "id": "6OCd9pBBSbVp"
      },
      "execution_count": null,
      "outputs": []
    },
    {
      "cell_type": "code",
      "source": [
        "result"
      ],
      "metadata": {
        "colab": {
          "base_uri": "https://localhost:8080/"
        },
        "id": "zDBXk8mETaOY",
        "outputId": "d550d2d7-f0d4-4da9-d7a2-86f61a95422e"
      },
      "execution_count": null,
      "outputs": [
        {
          "output_type": "execute_result",
          "data": {
            "text/plain": [
              "8"
            ]
          },
          "metadata": {},
          "execution_count": 34
        }
      ]
    },
    {
      "cell_type": "code",
      "source": [
        "def addition2(x, y):\n",
        "  print(x+y)"
      ],
      "metadata": {
        "id": "tc3xgFf0S57N"
      },
      "execution_count": null,
      "outputs": []
    },
    {
      "cell_type": "code",
      "source": [
        "addition2(3,5)"
      ],
      "metadata": {
        "colab": {
          "base_uri": "https://localhost:8080/"
        },
        "id": "eB97GySIS9QZ",
        "outputId": "a43c9e27-2788-41c6-ea93-9e2b0338989f"
      },
      "execution_count": null,
      "outputs": [
        {
          "output_type": "stream",
          "name": "stdout",
          "text": [
            "8\n"
          ]
        }
      ]
    },
    {
      "cell_type": "code",
      "source": [
        "result_2 = addition2(3,5)"
      ],
      "metadata": {
        "colab": {
          "base_uri": "https://localhost:8080/"
        },
        "id": "s_KidUUAS_O7",
        "outputId": "9014aa4d-a50c-4c10-ebdb-a6ed06ee290b"
      },
      "execution_count": null,
      "outputs": [
        {
          "output_type": "stream",
          "name": "stdout",
          "text": [
            "8\n"
          ]
        }
      ]
    },
    {
      "cell_type": "code",
      "source": [
        "result_2 == None"
      ],
      "metadata": {
        "colab": {
          "base_uri": "https://localhost:8080/"
        },
        "id": "qP_LTruwTTtc",
        "outputId": "faba3d74-bd20-4ebe-a562-d71758d02e14"
      },
      "execution_count": null,
      "outputs": [
        {
          "output_type": "execute_result",
          "data": {
            "text/plain": [
              "True"
            ]
          },
          "metadata": {},
          "execution_count": 32
        }
      ]
    },
    {
      "cell_type": "code",
      "source": [
        "type(result_2)"
      ],
      "metadata": {
        "colab": {
          "base_uri": "https://localhost:8080/"
        },
        "id": "gXhPBLIZTfb5",
        "outputId": "9622658c-28dc-4706-9278-59a4630c810a"
      },
      "execution_count": null,
      "outputs": [
        {
          "output_type": "execute_result",
          "data": {
            "text/plain": [
              "NoneType"
            ]
          },
          "metadata": {},
          "execution_count": 35
        }
      ]
    },
    {
      "cell_type": "markdown",
      "metadata": {
        "id": "UeF__cXrpMpT"
      },
      "source": [
        "## Built-in functions\n",
        "\n",
        "Python comes with numerous built-in functions that are readily available for use. These are just a few examples of the built-in functions available in Python that are commonly used. There are many other built-in functions that can save time and simplify code when working with data. Refer to the official Python documentation for the complete list: [Python Built-in Functions](https://docs.python.org/3/library/functions.html)"
      ]
    },
    {
      "cell_type": "markdown",
      "metadata": {
        "id": "tKdvOhkhpMpU"
      },
      "source": [
        "### `sorted()`\n",
        "\n",
        "`sorted(iterable, *, key=None, reverse=False)`: Returns a new sorted list from the specified iterable."
      ]
    },
    {
      "cell_type": "code",
      "execution_count": 1,
      "metadata": {
        "id": "E7bO_dLcpMpU",
        "colab": {
          "base_uri": "https://localhost:8080/"
        },
        "outputId": "9fef1d65-003b-4bc1-dab0-0c24bd5d295f"
      },
      "outputs": [
        {
          "output_type": "stream",
          "name": "stdout",
          "text": [
            "[1, 2, 3, 4, 5]\n"
          ]
        }
      ],
      "source": [
        "my_list = [3, 2, 5, 1, 4]\n",
        "sorted_list = sorted(my_list)\n",
        "print(sorted_list)"
      ]
    },
    {
      "cell_type": "markdown",
      "metadata": {
        "id": "VM2op9htpMpU"
      },
      "source": [
        "### `map()`\n",
        "\n",
        "`map(function, iterable)`: Applies a given function to all items in the input iterable, such as lists or tuples, and returns an iterable of the results."
      ]
    },
    {
      "cell_type": "code",
      "execution_count": 2,
      "metadata": {
        "id": "oi-W5p8zpMpU",
        "outputId": "c2919010-2ae3-4777-a381-1fa5eb6b1ac4",
        "colab": {
          "base_uri": "https://localhost:8080/"
        }
      },
      "outputs": [
        {
          "output_type": "stream",
          "name": "stdout",
          "text": [
            "[1, 4, 9, 16, 25]\n"
          ]
        }
      ],
      "source": [
        "numbers = [1, 2, 3, 4, 5]\n",
        "squares = list(map(lambda x: x**2, numbers))\n",
        "print(squares)"
      ]
    },
    {
      "cell_type": "markdown",
      "metadata": {
        "id": "_irsYGVvpMpU"
      },
      "source": [
        "### `filter()`\n",
        "\n",
        "`filter(function, iterable)`: Filters the elements from an iterable, passing only those elements for which the input function returns `True`."
      ]
    },
    {
      "cell_type": "code",
      "execution_count": 5,
      "metadata": {
        "id": "F0w6T3fkpMpV",
        "outputId": "faa3fdcc-2056-4ba2-c9bf-665d81f3a096",
        "colab": {
          "base_uri": "https://localhost:8080/"
        }
      },
      "outputs": [
        {
          "output_type": "stream",
          "name": "stdout",
          "text": [
            "[2, 4]\n"
          ]
        }
      ],
      "source": [
        "numbers = [1, 2, 3, 4, 5]\n",
        "even_numbers = list(filter(lambda x: x % 2 == 0, numbers))\n",
        "print(even_numbers)"
      ]
    },
    {
      "cell_type": "markdown",
      "metadata": {
        "id": "v1gtMe0upMpV"
      },
      "source": [
        "### `zip()`\n",
        "\n",
        "`zip(*iterables)`: Combines multiple iterables, like lists or tuples, into a single iterable, pairing elements at the same index in each input iterable."
      ]
    },
    {
      "cell_type": "code",
      "execution_count": 4,
      "metadata": {
        "id": "SLGZtGx9pMpV",
        "outputId": "d2c12e8e-dc2d-4de3-d2d7-29ee17349268",
        "colab": {
          "base_uri": "https://localhost:8080/"
        }
      },
      "outputs": [
        {
          "output_type": "stream",
          "name": "stdout",
          "text": [
            "[('Alice', 30), ('Bob', 25), ('Carol', 28)]\n"
          ]
        }
      ],
      "source": [
        "names = [\"Alice\", \"Bob\", \"Carol\"]\n",
        "ages = [30, 25, 28]\n",
        "combined = list(zip(names, ages))\n",
        "print(combined)"
      ]
    },
    {
      "cell_type": "code",
      "source": [
        "%%writefile test.py\n",
        "print(\"Hello world\")"
      ],
      "metadata": {
        "colab": {
          "base_uri": "https://localhost:8080/"
        },
        "id": "2Odww_E6WSOb",
        "outputId": "21f11eb6-b932-4433-ac88-31c8388aea33"
      },
      "execution_count": 3,
      "outputs": [
        {
          "output_type": "stream",
          "name": "stdout",
          "text": [
            "Writing test.py\n"
          ]
        }
      ]
    },
    {
      "cell_type": "markdown",
      "metadata": {
        "id": "JYvW-lFcpMpV"
      },
      "source": [
        "## Exercise Function"
      ]
    },
    {
      "cell_type": "code",
      "execution_count": 6,
      "metadata": {
        "id": "1WPHCt-mpMpV",
        "outputId": "58ef995d-5a17-45c8-9312-52f661c6469e",
        "colab": {
          "base_uri": "https://localhost:8080/"
        }
      },
      "outputs": [
        {
          "output_type": "stream",
          "name": "stdout",
          "text": [
            "Collecting rggrader\n",
            "  Downloading rggrader-0.1.6-py3-none-any.whl (2.5 kB)\n",
            "Requirement already satisfied: requests in /usr/local/lib/python3.10/dist-packages (from rggrader) (2.31.0)\n",
            "Requirement already satisfied: pandas in /usr/local/lib/python3.10/dist-packages (from rggrader) (2.0.3)\n",
            "Requirement already satisfied: Pillow in /usr/local/lib/python3.10/dist-packages (from rggrader) (9.4.0)\n",
            "Requirement already satisfied: python-dateutil>=2.8.2 in /usr/local/lib/python3.10/dist-packages (from pandas->rggrader) (2.8.2)\n",
            "Requirement already satisfied: pytz>=2020.1 in /usr/local/lib/python3.10/dist-packages (from pandas->rggrader) (2023.4)\n",
            "Requirement already satisfied: tzdata>=2022.1 in /usr/local/lib/python3.10/dist-packages (from pandas->rggrader) (2024.1)\n",
            "Requirement already satisfied: numpy>=1.21.0 in /usr/local/lib/python3.10/dist-packages (from pandas->rggrader) (1.25.2)\n",
            "Requirement already satisfied: charset-normalizer<4,>=2 in /usr/local/lib/python3.10/dist-packages (from requests->rggrader) (3.3.2)\n",
            "Requirement already satisfied: idna<4,>=2.5 in /usr/local/lib/python3.10/dist-packages (from requests->rggrader) (3.7)\n",
            "Requirement already satisfied: urllib3<3,>=1.21.1 in /usr/local/lib/python3.10/dist-packages (from requests->rggrader) (2.0.7)\n",
            "Requirement already satisfied: certifi>=2017.4.17 in /usr/local/lib/python3.10/dist-packages (from requests->rggrader) (2024.2.2)\n",
            "Requirement already satisfied: six>=1.5 in /usr/local/lib/python3.10/dist-packages (from python-dateutil>=2.8.2->pandas->rggrader) (1.16.0)\n",
            "Installing collected packages: rggrader\n",
            "Successfully installed rggrader-0.1.6\n"
          ]
        }
      ],
      "source": [
        "!pip install rggrader"
      ]
    },
    {
      "cell_type": "code",
      "execution_count": 7,
      "metadata": {
        "id": "Ug9fWL5gpMpV"
      },
      "outputs": [],
      "source": [
        "# @title #### Student Identity\n",
        "student_id = \"REALWBRK\" # @param {type:\"string\"}\n",
        "name = \"Efrizal\" # @param {type:\"string\"}"
      ]
    },
    {
      "cell_type": "code",
      "source": [
        "student_id = \"REALWBRK\"\n",
        "name = \"efrizal\""
      ],
      "metadata": {
        "id": "52quaaR4UgkY"
      },
      "execution_count": 8,
      "outputs": []
    },
    {
      "cell_type": "code",
      "source": [
        "def calculate_circle_area(radius):\n",
        "    # your code here\n",
        "    # pi * r * r\n",
        "    return 3.14 * radius * radius"
      ],
      "metadata": {
        "id": "RpoxsKhrWsTx"
      },
      "execution_count": 9,
      "outputs": []
    },
    {
      "cell_type": "code",
      "source": [
        "calculate_circle_area(10)"
      ],
      "metadata": {
        "colab": {
          "base_uri": "https://localhost:8080/"
        },
        "id": "LqkBmC4tWyFa",
        "outputId": "98e2fd59-faef-4e01-9a05-f41c47e5ab1d"
      },
      "execution_count": 10,
      "outputs": [
        {
          "output_type": "execute_result",
          "data": {
            "text/plain": [
              "314.0"
            ]
          },
          "metadata": {},
          "execution_count": 10
        }
      ]
    },
    {
      "cell_type": "code",
      "execution_count": 12,
      "metadata": {
        "id": "3oXDRqP-pMpW",
        "outputId": "3d836afd-7bfd-4157-8b50-9fbac0d83a54",
        "colab": {
          "base_uri": "https://localhost:8080/",
          "height": 35
        }
      },
      "outputs": [
        {
          "output_type": "execute_result",
          "data": {
            "text/plain": [
              "'Assignment successfully submitted'"
            ],
            "application/vnd.google.colaboratory.intrinsic+json": {
              "type": "string"
            }
          },
          "metadata": {},
          "execution_count": 12
        }
      ],
      "source": [
        "# @title #### 00. Circle Area Function\n",
        "from rggrader import submit\n",
        "import math\n",
        "\n",
        "rad = 5\n",
        "\n",
        "# TODO: Define a function 'calculate_area' that takes a radius as a parameter and returns the area of a circle with that radius.\n",
        "def calculate_circle_area(radius):\n",
        "    # your code here\n",
        "    return 3.14 * radius * radius\n",
        "\n",
        "# Submit Method\n",
        "assignment_id = \"02-function\"\n",
        "question_id = \"00_circle-area-function\"\n",
        "submit(student_id, name, assignment_id, str(calculate_circle_area(rad)), question_id)"
      ]
    },
    {
      "cell_type": "code",
      "execution_count": 14,
      "metadata": {
        "id": "QkJXqd8dpMpW",
        "outputId": "81688909-c5eb-43b1-a1df-dfd00a90a561",
        "colab": {
          "base_uri": "https://localhost:8080/",
          "height": 53
        }
      },
      "outputs": [
        {
          "output_type": "stream",
          "name": "stdout",
          "text": [
            "[1, 2, 3, 4, 5]\n"
          ]
        },
        {
          "output_type": "execute_result",
          "data": {
            "text/plain": [
              "'Assignment successfully submitted'"
            ],
            "application/vnd.google.colaboratory.intrinsic+json": {
              "type": "string"
            }
          },
          "metadata": {},
          "execution_count": 14
        }
      ],
      "source": [
        "# @title #### 02. Fun with Lambda and Filter\n",
        "from rggrader import submit\n",
        "\n",
        "# Given a list of positive integers\n",
        "numbers = [1, 2, 3, 4, 5, 6, 7, 8, 9, 10]\n",
        "\n",
        "# TODO: Use a lambda function and the 'filter' function to keep numbers less than 6.\n",
        "# Result should be a list of numbers less than 6.\n",
        "filtered_numbers = list(filter(lambda x: x < 6, numbers))\n",
        "\n",
        "# Submit Method\n",
        "assignment_id = \"02-functions\"\n",
        "question_id = \"01_fun-with-lambda-and-filter\"\n",
        "submit(student_id, name, assignment_id, str(filtered_numbers), question_id)"
      ]
    },
    {
      "cell_type": "code",
      "execution_count": 17,
      "metadata": {
        "id": "SrCusnfypMpW",
        "outputId": "9fe308ea-4c78-4f8f-939f-a389fd468f43",
        "colab": {
          "base_uri": "https://localhost:8080/",
          "height": 35
        }
      },
      "outputs": [
        {
          "output_type": "execute_result",
          "data": {
            "text/plain": [
              "'Assignment successfully submitted'"
            ],
            "application/vnd.google.colaboratory.intrinsic+json": {
              "type": "string"
            }
          },
          "metadata": {},
          "execution_count": 17
        }
      ],
      "source": [
        "# @title #### 03. Adventures with Map and Filter\n",
        "from rggrader import submit\n",
        "\n",
        "# Given a list of positive integers\n",
        "numbers = [1, 2, 3, 4, 5, 6, 7, 8, 9, 10]\n",
        "\n",
        "# TODO: Use the 'map' function to double the numbers and the 'filter' function to keep numbers less than 15.\n",
        "# Hint: You can use 'map' and 'filter' together.\n",
        "modified_numbers = list(filter(lambda y: y < 15, map(lambda x: x**2, numbers)))\n",
        "\n",
        "# Submit Method\n",
        "assignment_id = \"02-functions\"\n",
        "question_id = \"02_adventures-with-map-and-filter\"\n",
        "submit(student_id, name, assignment_id, str(modified_numbers), question_id)"
      ]
    }
  ],
  "metadata": {
    "celltoolbar": "Slideshow",
    "kernelspec": {
      "display_name": "Python 3 (ipykernel)",
      "language": "python",
      "name": "python3"
    },
    "language_info": {
      "codemirror_mode": {
        "name": "ipython",
        "version": 3
      },
      "file_extension": ".py",
      "mimetype": "text/x-python",
      "name": "python",
      "nbconvert_exporter": "python",
      "pygments_lexer": "ipython3",
      "version": "3.11.3"
    },
    "colab": {
      "provenance": [],
      "include_colab_link": true
    }
  },
  "nbformat": 4,
  "nbformat_minor": 0
}